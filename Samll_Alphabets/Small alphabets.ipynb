{
 "cells": [
  {
   "cell_type": "code",
   "execution_count": 21,
   "metadata": {},
   "outputs": [
    {
     "name": "stdout",
     "output_type": "stream",
     "text": [
      "  * *       \n",
      "*     *     \n",
      "*     *     \n",
      "  * * *     \n",
      "        *   \n",
      "            \n"
     ]
    }
   ],
   "source": [
    "for row in range(6):\n",
    "    for col in range(6):\n",
    "        if row==0 and col==1 or row==0 and col==2 or row==3 and col==1 or row==3 and col==2 or row==1 and col==0 or row==2 and col==0 or row==1 and col==3 or row==2 and col==3 or row==3 and col==3 or row==4 and col==4:\n",
    "            print(\"*\", end=\" \")\n",
    "        else:\n",
    "            print(\" \",end=\" \")\n",
    "    print()"
   ]
  },
  {
   "cell_type": "code",
   "execution_count": 26,
   "metadata": {},
   "outputs": [
    {
     "name": "stdout",
     "output_type": "stream",
     "text": [
      "*         \n",
      "*         \n",
      "* * * *   \n",
      "*       * \n",
      "* * * *   \n"
     ]
    }
   ],
   "source": [
    "for row in range(5):\n",
    "    for col in range(5):\n",
    "        if (col==0)or(row==2 and col<=3)or(row==4 and col<=3)or(row==3 and col==4): \n",
    "            print(\"*\",end=\" \")\n",
    "        else:\n",
    "            print(\" \",end=\" \")\n",
    "    print()"
   ]
  },
  {
   "cell_type": "code",
   "execution_count": 44,
   "metadata": {},
   "outputs": [
    {
     "name": "stdout",
     "output_type": "stream",
     "text": [
      "  * * *   \n",
      "*         \n",
      "*         \n",
      "*         \n",
      "  * * *   \n"
     ]
    }
   ],
   "source": [
    "for row in range(5):\n",
    "    for col in range(5):\n",
    "        if row==0 and col==1 or row==0 and col==2 or row==0 and col==3 or row==4 and col==1 or row==4 and col==2 or row==4 and col==3 or row==1 and col==0 or row==2 and col==0 or row==3 and col==0: \n",
    "            print(\"*\",end=\" \")\n",
    "        else:\n",
    "            print(\" \",end=\" \")\n",
    "    print()"
   ]
  },
  {
   "cell_type": "code",
   "execution_count": 64,
   "metadata": {},
   "outputs": [
    {
     "name": "stdout",
     "output_type": "stream",
     "text": [
      "        * \n",
      "        * \n",
      "  * * * * \n",
      "*       * \n",
      "  * * * * \n"
     ]
    }
   ],
   "source": [
    "for row in range(5):\n",
    "    for col in range(5):\n",
    "        if col==4 or  row==2 and col>=1 or row==4 and col>=1 or row==3 and col==0: \n",
    "            print(\"*\",end=\" \")\n",
    "        else:\n",
    "            print(\" \",end=\" \")\n",
    "    print()"
   ]
  },
  {
   "cell_type": "code",
   "execution_count": 77,
   "metadata": {},
   "outputs": [
    {
     "name": "stdout",
     "output_type": "stream",
     "text": [
      "  * * *   \n",
      "*       * \n",
      "* * * *   \n",
      "*         \n",
      "  * * * * \n"
     ]
    }
   ],
   "source": [
    "for row in range(5):\n",
    "    for col in range(5):\n",
    "        if row==0 and (col==1 or col==2  or col==3) or (row==2 and (col==1 or col==2 or col==3)) or (row==4 and (col==1 or col==2 or col==3))or(row==1 and col==0)or(row==2 and col==0)or(row==3 and col==0)or (row==1 and col==4)or(row==4 and col==4): \n",
    "            print(\"*\",end=\" \")\n",
    "        else:\n",
    "            print(\" \",end=\" \")\n",
    "    print()"
   ]
  },
  {
   "cell_type": "code",
   "execution_count": 98,
   "metadata": {},
   "outputs": [
    {
     "name": "stdout",
     "output_type": "stream",
     "text": [
      "        * *   \n",
      "      *     * \n",
      "      * * *   \n",
      "      *       \n",
      "  * * * * *   \n",
      "      *       \n",
      "      *       \n"
     ]
    }
   ],
   "source": [
    "for row in range(7):\n",
    "    for col in range(7):\n",
    "        if row==1 and col==3 or row==2 and col==3 or row==3 and col==3 or row==4 and col==3 or row==0 and col==4 or row==0 and col==5 or row==2 and col==4 or row==2 and col==5 or row==1 and col==6 or row==5 and col==3 or row==6 and col==3 or (row==4 and col==1)or(row==4 and col==2)or(row==4 and col==4)or(row==4 and col==5): \n",
    "            print(\"*\",end=\" \")\n",
    "        else:\n",
    "            print(\" \",end=\" \")\n",
    "    print()"
   ]
  },
  {
   "cell_type": "code",
   "execution_count": 110,
   "metadata": {},
   "outputs": [
    {
     "name": "stdout",
     "output_type": "stream",
     "text": [
      "    * *     \n",
      "  *     *   \n",
      "    * * *   \n",
      "        *   \n",
      "        *   \n",
      "    * * *   \n",
      "  *     *   \n",
      "    * *     \n"
     ]
    }
   ],
   "source": [
    "for row in range(8):\n",
    "    for col in range(6):\n",
    "        if (row==0 and col==2) or (row==0 and col==3) or row==2 and col==2 or row==2 and col==3 or(row==1 and col==1)or (row==1 and col==4)or(row==5 and col==2)or(row==5 and col==3)or(row==7 and col==2)or (row==7 and col==3)or(row==6 and col==1)or(row==6 and col==4)or(row==2 and col==4)or(row==3 and col==4)or(row==4 and col==4)or(row==5 and col==4):\n",
    "            print(\"*\", end=\" \")\n",
    "        else:\n",
    "            print(\" \",end=\" \")\n",
    "    print()"
   ]
  },
  {
   "cell_type": "code",
   "execution_count": 120,
   "metadata": {},
   "outputs": [
    {
     "name": "stdout",
     "output_type": "stream",
     "text": [
      "*           \n",
      "*           \n",
      "*           \n",
      "* * * * *   \n",
      "*         * \n",
      "*         * \n",
      "*         * \n"
     ]
    }
   ],
   "source": [
    "for row in range(7):\n",
    "    for col in range(6):\n",
    "        if col==0 or row==3 and (col==1 or col==2 or col==3 or col==4)or(row==4 and col==5)or(row==5 and col==5)or(row==6 and col==5)or(row==7 and col==5):\n",
    "            print(\"*\", end=\" \")\n",
    "        else:\n",
    "            print(\" \",end=\" \")\n",
    "    print()"
   ]
  },
  {
   "cell_type": "code",
   "execution_count": 123,
   "metadata": {},
   "outputs": [
    {
     "name": "stdout",
     "output_type": "stream",
     "text": [
      "*           \n",
      "            \n",
      "*           \n",
      "*           \n",
      "*           \n",
      "*           \n"
     ]
    }
   ],
   "source": [
    "for row in range(6):\n",
    "    for col in range(6):\n",
    "        if col==0 and row>=2 or row==0 and col==0:\n",
    "            print(\"*\", end=\" \")\n",
    "        else:\n",
    "            print(\" \",end=\" \")\n",
    "    print()"
   ]
  },
  {
   "cell_type": "code",
   "execution_count": 126,
   "metadata": {},
   "outputs": [
    {
     "name": "stdout",
     "output_type": "stream",
     "text": [
      "    *     \n",
      "          \n",
      "    *     \n",
      "    *     \n",
      "*   *     \n",
      "*   *     \n",
      "  *       \n"
     ]
    }
   ],
   "source": [
    "for row in range(7):\n",
    "    for col in range(5):\n",
    "        if (col==2 and row!=6 and row!=1) or(row==6 and col==1)or(row==5 and col==0)or(row==4 and col==0):\n",
    "            print(\"*\",end=\" \")\n",
    "        else:\n",
    "            print(\" \",end=\" \")\n",
    "    print()"
   ]
  },
  {
   "cell_type": "code",
   "execution_count": 127,
   "metadata": {},
   "outputs": [
    {
     "name": "stdout",
     "output_type": "stream",
     "text": [
      "*     \n",
      "*     \n",
      "*   * \n",
      "* *   \n",
      "*   * \n"
     ]
    }
   ],
   "source": [
    "for row in range(5):\n",
    "    for col in range(3):\n",
    "        if (col==0 )or(row==3 and col==1)or(row==2 and col==2)or(row==1 and col==3)or(row==0 and col==4)or(row==4 and col==2)or(row==5 and col==3)or(row==6 and col==4): \n",
    "            print(\"*\",end=\" \")\n",
    "        else:\n",
    "            print(\" \",end=\" \")\n",
    "    print()"
   ]
  },
  {
   "cell_type": "code",
   "execution_count": 132,
   "metadata": {},
   "outputs": [
    {
     "name": "stdout",
     "output_type": "stream",
     "text": [
      "    *     \n",
      "    *     \n",
      "    *     \n",
      "    *     \n",
      "  *   *   \n"
     ]
    }
   ],
   "source": [
    "for row in range(5):\n",
    "    for col in range(5):\n",
    "        if (col==2 and row!=4)or(row==4 and (col==1 or col==3)):\n",
    "            print(\"*\",end=\" \")\n",
    "        else:\n",
    "            print(\" \",end=\" \")\n",
    "    print()"
   ]
  },
  {
   "cell_type": "code",
   "execution_count": 146,
   "metadata": {},
   "outputs": [
    {
     "name": "stdout",
     "output_type": "stream",
     "text": [
      "*   * *   * *   \n",
      "  *     *     * \n",
      "  *     *     * \n",
      "  *     *     * \n",
      "  *     *     * \n"
     ]
    }
   ],
   "source": [
    "for row in range(5):\n",
    "    for col in range(8):\n",
    "        if col==1 and row!=0 or col==4 and row!=0 or col==7 and row!=0 or row==0 and col==0  or row==0 and col==2 or row==0 and col==3or row==0 and col==5or row==0 and col==6:\n",
    "            print(\"*\",end=\" \")\n",
    "        else:\n",
    "            print(\" \",end=\" \")\n",
    "    print()"
   ]
  },
  {
   "cell_type": "code",
   "execution_count": 151,
   "metadata": {},
   "outputs": [
    {
     "name": "stdout",
     "output_type": "stream",
     "text": [
      "      *   * *   \n",
      "        *     * \n",
      "        *     * \n",
      "        *     * \n",
      "        *     * \n"
     ]
    }
   ],
   "source": [
    "for row in range(5):\n",
    "    for col in range(8):\n",
    "        if col==4 and row!=0 or col==7 and row!=0 or row==0 and col==3or row==0 and col==5 or row==0 and col==6 :\n",
    "            print(\"*\",end=\" \")\n",
    "        else:\n",
    "            print(\" \",end=\" \")\n",
    "    print()"
   ]
  },
  {
   "cell_type": "code",
   "execution_count": 152,
   "metadata": {},
   "outputs": [
    {
     "name": "stdout",
     "output_type": "stream",
     "text": [
      "  *  *    \n",
      "*      *  \n",
      "*      *  \n",
      "  *  *    \n"
     ]
    }
   ],
   "source": [
    "for row in range(4):\n",
    "    for col in range(4):\n",
    "        if row==0 and col==1 or (row==0 and col==2) or (row==1 and col==0) or (row==1 and col==3) or (row==2 and col==0) or (row==2 and col==3) or (row==3 and col==1) or (row==3 and col==2):\n",
    "        \n",
    "            print(\"*\", end=\"  \")\n",
    "        else:\n",
    "            print(\" \",end=\" \")\n",
    "    print()"
   ]
  },
  {
   "cell_type": "code",
   "execution_count": 153,
   "metadata": {},
   "outputs": [
    {
     "name": "stdout",
     "output_type": "stream",
     "text": [
      "  * * *   \n",
      "*       * \n",
      "*       * \n",
      "* * * *   \n",
      "*         \n",
      "*         \n",
      "*         \n"
     ]
    }
   ],
   "source": [
    "for row in range(7):\n",
    "    for col in range(5):\n",
    "        if (col==0 and row!=0)or(row==0 and col==1)or(row==0and col==2)or(row==0 and col==3)or(row==3and col<4)or(row==1 and col==4)or(row==2 and col==4):\n",
    "            print(\"*\",end=\" \")\n",
    "        else:\n",
    "            print(\" \",end=\" \")\n",
    "    print()"
   ]
  },
  {
   "cell_type": "code",
   "execution_count": 179,
   "metadata": {},
   "outputs": [
    {
     "name": "stdout",
     "output_type": "stream",
     "text": [
      "  *  *      \n",
      "*      *    \n",
      "  *  *  *    \n",
      "      *    \n",
      "      *    \n"
     ]
    }
   ],
   "source": [
    "for row in range(5):\n",
    "    for col in range(5):\n",
    "        if col==3 and row!=0 or row==0 and col==1 or row==0 and col==2 or row==1 and col==0 or(row==2 and col==1)or(row==2 and col==2):\n",
    "       \n",
    "            print(\"*\", end=\"  \")\n",
    "        else:\n",
    "            print(\" \",end=\" \")\n",
    "    print()"
   ]
  },
  {
   "cell_type": "code",
   "execution_count": 188,
   "metadata": {},
   "outputs": [
    {
     "name": "stdout",
     "output_type": "stream",
     "text": [
      "*       * \n",
      "  *   *   \n",
      "    *     \n",
      "  *   *   \n",
      "    *     \n"
     ]
    }
   ],
   "source": [
    "for row in range(5):\n",
    "    for col in range(5):\n",
    "        if row==2 and col==2or(row==0 and col==0)or(row==0 and col==4)or(row==3 and col==1)or (row==3 and col==3)or(row==4 and col==2)or(row==1 and col==1)or(row==1 and col==3):\n",
    "            print(\"*\",end=\" \")\n",
    "        else:\n",
    "            print(\" \",end=\" \")\n",
    "    print()"
   ]
  },
  {
   "cell_type": "code",
   "execution_count": 195,
   "metadata": {},
   "outputs": [
    {
     "name": "stdout",
     "output_type": "stream",
     "text": [
      "  * * * * \n",
      "*         \n",
      "  * * *   \n",
      "        * \n",
      "* * * *   \n"
     ]
    }
   ],
   "source": [
    "for row in range(5):\n",
    "    for col in range(5):\n",
    "        if (col!=0 and row==0)or(row==2 and col!=0 and col!=4)or(row==4 and col!=4)or(row==1 and col==0)or(row==3 and col==4):\n",
    "            print(\"*\",end=\" \")\n",
    "        else:\n",
    "            print(\" \",end=\" \")\n",
    "    print()"
   ]
  },
  {
   "cell_type": "code",
   "execution_count": 203,
   "metadata": {},
   "outputs": [
    {
     "name": "stdout",
     "output_type": "stream",
     "text": [
      "    *       \n",
      "    *       \n",
      "  * * *     \n",
      "    *       \n",
      "      * * * \n"
     ]
    }
   ],
   "source": [
    "for row in range(5):\n",
    "    for col in range(6):\n",
    "        if (col==2 and row!=4)or(row==4 and (col==3 or col==4))or(row==2 and col==1)or(row==2 and col==3)or(row==4 and col==5):\n",
    "            print(\"*\",end=\" \")\n",
    "        else:\n",
    "            print(\" \",end=\" \")\n",
    "    print()"
   ]
  },
  {
   "cell_type": "code",
   "execution_count": 211,
   "metadata": {},
   "outputs": [
    {
     "name": "stdout",
     "output_type": "stream",
     "text": [
      "*       *     \n",
      "*       *     \n",
      "*       *     \n",
      "*       *     \n",
      "*       *     \n",
      "*       *     \n",
      "  * * *   * * \n"
     ]
    }
   ],
   "source": [
    "for row in range(7):\n",
    "    for col in range(7):\n",
    "        if (col==0 and row!=6)or(col==4 and row!=6)or(row==6 and col!=0 and col!=4): \n",
    "            print(\"*\",end=\" \")\n",
    "        else:\n",
    "            print(\" \",end=\" \")\n",
    "    print()"
   ]
  },
  {
   "cell_type": "code",
   "execution_count": 212,
   "metadata": {},
   "outputs": [
    {
     "name": "stdout",
     "output_type": "stream",
     "text": [
      "*       * \n",
      "  *   *   \n",
      "    *     \n",
      "          \n",
      "          \n",
      "          \n",
      "          \n"
     ]
    }
   ],
   "source": [
    "for row in range(7):\n",
    "    for col in range(5):\n",
    "        if (row==0 and col==0) or (row==0 and col==4)or (row==1 and col==1) or (row==1 and col==3)or(row==2 and col==2):#or(row==2 and col==4)or(row==3 and col==3): \n",
    "            print(\"*\",end=\" \")\n",
    "        else:\n",
    "            print(\" \",end=\" \")\n",
    "    print()"
   ]
  },
  {
   "cell_type": "code",
   "execution_count": 217,
   "metadata": {},
   "outputs": [
    {
     "name": "stdout",
     "output_type": "stream",
     "text": [
      "  *   *   \n",
      "  *   *   \n",
      "  * * *   \n",
      "  *   *   \n",
      "          \n"
     ]
    }
   ],
   "source": [
    "for row in range(5):\n",
    "    for col in range(5):\n",
    "        if (col==1 and row!=4) or (row!=4 and col==3)or(row==2 and col==2): \n",
    "            print(\"*\",end=\" \")\n",
    "        else:\n",
    "            print(\" \",end=\" \")\n",
    "    print()"
   ]
  },
  {
   "cell_type": "code",
   "execution_count": 221,
   "metadata": {},
   "outputs": [
    {
     "name": "stdout",
     "output_type": "stream",
     "text": [
      "*       * \n",
      "  *   *   \n",
      "  * * *   \n",
      "  *   *   \n",
      "    *   * \n"
     ]
    }
   ],
   "source": [
    "for row in range(5):\n",
    "    for col in range(5):\n",
    "        if row==2 and col==2or(row==0 and col==0)or(row==0 and col==4)or(row==3 and col==1)or (row==3 and col==3)or(row==4 and col==2)or(row==1 and col==1)or(row==1 and col==3)or(row==4 and col==4)or(row==2 and col==3)or(row==2 and col==1):\n",
    "            print(\"*\",end=\" \")\n",
    "        else:\n",
    "            print(\" \",end=\" \")\n",
    "    print()"
   ]
  },
  {
   "cell_type": "code",
   "execution_count": 236,
   "metadata": {},
   "outputs": [
    {
     "name": "stdout",
     "output_type": "stream",
     "text": [
      "  *   *   \n",
      "  *   *   \n",
      "    * *   \n",
      "      *   \n",
      "      *   \n",
      "  *   *   \n",
      "  *   *   \n",
      "    * *   \n"
     ]
    }
   ],
   "source": [
    "for row in range(8):\n",
    "    for col in range(5):\n",
    "        if col==3  or row==2and col==2  or row==1 and col==1 or row==0 and col==1 or (row==5 and col==1)or(row==6 and col==1)or(row==7 and col==2):\n",
    "            print(\"*\",end=\" \")\n",
    "        else:\n",
    "            print(\" \",end=\" \")\n",
    "    print()"
   ]
  },
  {
   "cell_type": "code",
   "execution_count": 238,
   "metadata": {},
   "outputs": [
    {
     "name": "stdout",
     "output_type": "stream",
     "text": [
      "* * * * * * * \n",
      "          *   \n",
      "        *     \n",
      "* * * * * * * \n",
      "    *         \n",
      "  *           \n",
      "* * * * * * * \n"
     ]
    }
   ],
   "source": [
    "for row in range(7):\n",
    "    for col in range(7):\n",
    "        if (row==0)or(row==6)or(row==3 and col==3)or(row==2and col==4)or(row==1and col==5)or(row==4and col==2)or(row==5and col==1)or(row==3): \n",
    "            print(\"*\",end=\" \")\n",
    "        else:\n",
    "            print(\" \",end=\" \")\n",
    "    print()"
   ]
  },
  {
   "cell_type": "code",
   "execution_count": null,
   "metadata": {},
   "outputs": [],
   "source": []
  }
 ],
 "metadata": {
  "kernelspec": {
   "display_name": "Python 3",
   "language": "python",
   "name": "python3"
  },
  "language_info": {
   "codemirror_mode": {
    "name": "ipython",
    "version": 3
   },
   "file_extension": ".py",
   "mimetype": "text/x-python",
   "name": "python",
   "nbconvert_exporter": "python",
   "pygments_lexer": "ipython3",
   "version": "3.6.8"
  }
 },
 "nbformat": 4,
 "nbformat_minor": 2
}
